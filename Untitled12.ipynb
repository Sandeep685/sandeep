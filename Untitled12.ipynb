{
  "nbformat": 4,
  "nbformat_minor": 0,
  "metadata": {
    "colab": {
      "provenance": [],
      "authorship_tag": "ABX9TyPwQIYpenVqt41+2KP6EbEK",
      "include_colab_link": true
    },
    "kernelspec": {
      "name": "python3",
      "display_name": "Python 3"
    },
    "language_info": {
      "name": "python"
    }
  },
  "cells": [
    {
      "cell_type": "markdown",
      "metadata": {
        "id": "view-in-github",
        "colab_type": "text"
      },
      "source": [
        "<a href=\"https://colab.research.google.com/github/Sandeep685/sandeep/blob/main/Untitled12.ipynb\" target=\"_parent\"><img src=\"https://colab.research.google.com/assets/colab-badge.svg\" alt=\"Open In Colab\"/></a>"
      ]
    },
    {
      "cell_type": "code",
      "execution_count": null,
      "metadata": {
        "colab": {
          "base_uri": "https://localhost:8080/"
        },
        "id": "d3UTE8beh6Nn",
        "outputId": "6c89b116-78a9-42ba-8336-3aebecefd972"
      },
      "outputs": [
        {
          "output_type": "stream",
          "name": "stdout",
          "text": [
            "Simple Caesar Cipher\n",
            "Enter word: SANDEEP\n",
            "Enter key (0-25): 5\n",
            "Encrypted: XFSIJJU\n",
            "Decrypted: SANDEEP\n",
            "Position based Caesar Cipher\n"
          ]
        }
      ],
      "source": [
        "def simple_caesar_cipher():\n",
        "    print(\"Simple Caesar Cipher\")\n",
        "    name = input(\"Enter word: \")\n",
        "    encrypted = \"\"\n",
        "    decrypted = \"\"\n",
        "    key = int(input(\"Enter key (0-25): \"))\n",
        "    for letter in name:\n",
        "        if letter.isalpha():\n",
        "            shift = ord('A') if letter.isupper() else ord('a')\n",
        "            encrypted += chr((ord(letter) - shift + key) % 26 + shift)\n",
        "        else:\n",
        "            encrypted += letter\n",
        "\n",
        "    print(\"Encrypted:\", encrypted)\n",
        "\n",
        "    for letter in encrypted:\n",
        "        if letter.isalpha():\n",
        "            shift = ord('A') if letter.isupper() else ord('a')\n",
        "            decrypted += chr((ord(letter) - shift - key) % 26 + shift)\n",
        "        else:\n",
        "            decrypted += letter\n",
        "\n",
        "    print(\"Decrypted:\", decrypted)\n",
        "\n",
        "\n",
        "def position_based_caesar_cipher():\n",
        "    print(\"Position based Caesar Cipher\")\n",
        "    name = input(\"Enter word: \")\n",
        "    encrypted = \"\"\n",
        "    decrypted = \"\"\n",
        "\n",
        "    for letter in name:\n",
        "        if letter.isalpha():\n",
        "            shift = ord('a') if letter.islower() else ord('A')\n",
        "            encrypted += str((ord(letter) - shift + 0) % 26) + \" \"  # No shift for simplicity\n",
        "        else:\n",
        "            encrypted += letter + \" \"\n",
        "\n",
        "    print(\"Encrypted:\", encrypted.strip())\n",
        "\n",
        "    arr = encrypted.strip().split(\" \")\n",
        "    for num in arr:\n",
        "        if num.isdigit():\n",
        "            decrypted += chr(int(num) + ord('a'))  # Assuming input was all lowercase for simplicity\n",
        "        else:\n",
        "            decrypted += num\n",
        "\n",
        "    print(\"Decrypted:\", decrypted)\n",
        "\n",
        "\n",
        "def custom_key_caesar_cipher():\n",
        "    print(\"Custom key Caesar Cipher\")\n",
        "    name = input(\"Enter word: \")\n",
        "    encrypted = \"\"\n",
        "    decrypted = \"\"\n",
        "    keys = []\n",
        "\n",
        "    print(\"Enter keys for encryption (0-25):\")\n",
        "    for letter in name:\n",
        "        key = int(input(f\"Key for '{letter}': \"))\n",
        "        keys.append(key)\n",
        "        if letter.isalpha():\n",
        "            shift = ord('A') if letter.isupper() else ord('a')\n",
        "            encrypted += chr((ord(letter) - shift + key) % 26 + shift)\n",
        "        else:\n",
        "            encrypted += letter\n",
        "    print(\"Encrypted:\", encrypted)\n",
        "\n",
        "    for i, letter in enumerate(encrypted):\n",
        "        key = keys[i]\n",
        "        if letter.isalpha():\n",
        "            shift = ord('A') if letter.isupper() else ord('a')\n",
        "            decrypted += chr((ord(letter) - shift - key) % 26 + shift)\n",
        "        else:\n",
        "            decrypted += letter\n",
        "\n",
        "    print(\"Decrypted:\", decrypted)\n",
        "\n",
        "simple_caesar_cipher()\n",
        "position_based_caesar_cipher()\n",
        "custom_key_caesar_cipher()\n"
      ]
    }
  ]
}