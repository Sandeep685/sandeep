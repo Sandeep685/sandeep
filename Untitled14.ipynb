{
  "nbformat": 4,
  "nbformat_minor": 0,
  "metadata": {
    "colab": {
      "provenance": [],
      "authorship_tag": "ABX9TyMKfiA4tjCnUvPAipJdsZBg",
      "include_colab_link": true
    },
    "kernelspec": {
      "name": "python3",
      "display_name": "Python 3"
    },
    "language_info": {
      "name": "python"
    }
  },
  "cells": [
    {
      "cell_type": "markdown",
      "metadata": {
        "id": "view-in-github",
        "colab_type": "text"
      },
      "source": [
        "<a href=\"https://colab.research.google.com/github/Sandeep685/sandeep/blob/main/Untitled14.ipynb\" target=\"_parent\"><img src=\"https://colab.research.google.com/assets/colab-badge.svg\" alt=\"Open In Colab\"/></a>"
      ]
    },
    {
      "cell_type": "code",
      "execution_count": 1,
      "metadata": {
        "colab": {
          "base_uri": "https://localhost:8080/"
        },
        "id": "Y20tNV-AkXee",
        "outputId": "7f2e89ee-294e-449f-b57b-b39c5950457c"
      },
      "outputs": [
        {
          "output_type": "stream",
          "name": "stdout",
          "text": [
            "Enter name: sandeep\n",
            "Enter key: 5\n",
            "Encrypted: xfsijju\n",
            "Decrypted: sandeep\n"
          ]
        }
      ],
      "source": [
        "def monoAlphabetic():\n",
        "    name = input(\"Enter name: \")\n",
        "    chrArrLower = ['a', 'b', 'c', 'd', 'e', 'f', 'g', 'h', 'i', 'j', 'k', 'l', 'm', 'n', 'o', 'p', 'q', 'r', 's', 't', 'u', 'v', 'w', 'x', 'y', 'z']\n",
        "    chrArrUpper = [c.upper() for c in chrArrLower]\n",
        "    encrypted = \"\"\n",
        "    decrypted = \"\"\n",
        "    key = int(input(\"Enter key: \"))\n",
        "\n",
        "    for letter in name:\n",
        "        if letter.islower():\n",
        "            ascii_val = ord(letter)\n",
        "            index = ((ascii_val - 97) + key) % 26\n",
        "            encrypted += chrArrLower[index]\n",
        "        elif letter.isupper():\n",
        "            ascii_val = ord(letter)\n",
        "            index = ((ascii_val - 65) + key) % 26\n",
        "            encrypted += chrArrUpper[index]\n",
        "        else:\n",
        "            encrypted += letter\n",
        "    print(\"Encrypted:\", encrypted)\n",
        "\n",
        "    for letter in encrypted:\n",
        "        if letter.islower():\n",
        "            ascii_val = ord(letter)\n",
        "            index = ((ascii_val - 97) - key) % 26\n",
        "            decrypted += chrArrLower[index]\n",
        "        elif letter.isupper():\n",
        "            ascii_val = ord(letter)\n",
        "            index = ((ascii_val - 65) - key) % 26\n",
        "            decrypted += chrArrUpper[index]\n",
        "        else:\n",
        "            decrypted += letter\n",
        "    print(\"Decrypted:\", decrypted)\n",
        "\n",
        "monoAlphabetic()\n"
      ]
    }
  ]
}